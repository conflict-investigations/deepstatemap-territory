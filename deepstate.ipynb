{
 "cells": [
  {
   "cell_type": "markdown",
   "id": "d7d63f93",
   "metadata": {},
   "source": [
    "# deepstatemap.live territorial gains scraping\n",
    "\n",
    "Get the total area marked as \"occupied\" for each timestamp and compute the area in square kilometers using [GeoPandas](https://geopandas.org/).\n",
    "\n",
    "**TODO:** Detection especially around May 2022 is faulty and the data only starts on 2022/04."
   ]
  },
  {
   "cell_type": "markdown",
   "id": "1feed2a9",
   "metadata": {},
   "source": [
    "To run this notebook, you need to install a few packages via `pip`:\n",
    "```\n",
    "pip install geopandas pandas numpy\n",
    "```\n",
    "For ipyleaflet: `pip install ipyleaflet`"
   ]
  },
  {
   "cell_type": "code",
   "execution_count": 1,
   "id": "9a9bcae7",
   "metadata": {},
   "outputs": [],
   "source": [
    "import datetime\n",
    "import json\n",
    "import os\n",
    "import pathlib\n",
    "import socket\n",
    "import time\n",
    "\n",
    "from multiprocessing.pool import ThreadPool\n",
    "from urllib import request\n",
    "from urllib.error import HTTPError, URLError\n",
    "\n",
    "import geopandas as gpd\n",
    "import pandas as pd\n",
    "from shapely.geometry import shape\n",
    "\n",
    "# ipyleaflet inline integration doesn't work atm?\n",
    "# from ipyleaflet import Map, GeoJSON"
   ]
  },
  {
   "cell_type": "code",
   "execution_count": 2,
   "id": "1664763e",
   "metadata": {},
   "outputs": [],
   "source": [
    "USER_AGENT = 'deepstate-scraper/0.0.1'\n",
    "TIMEOUT = 60\n",
    "MAX_RETRIES = 10\n",
    "COOLDOWN = 2  # 5 seconds between retries/after each download\n",
    "PARALLEL_DOWNLOADS = 10\n",
    "PARALLEL_PROCESSES = 16\n",
    "\n",
    "HISTORY_URL = 'https://deepstatemap.live/api/history/'\n",
    "# https://deepstatemap.live/api/history/1677196268/geojson\n",
    "\n",
    "ITEMS_FOLDER = 'items'\n",
    "\n",
    "# features[].properties.name\n",
    "OCCUPIED_KEYS = [\n",
    "    'Окупований Крим /// Occupied Crimea',\n",
    "    'Окуповано /// Occupied',\n",
    "    'ОРДЛО /// CADR and CALR',\n",
    "    'Окуповано',\n",
    "]\n",
    "# Possible erroneous data:\n",
    "# 'Окуп��вано /// Occupied',  # 2022-10-20 23:22:57 1666300977\n",
    "# 'Ок��повано /// Occupied',  # 2022-08-07 19:05:38 1659891938\n",
    "# 'Окуповано/// Occupied',  # 2022-08-07 19:05:38 1659891938\n",
    "# 'Окупов��но /// Occupied',  # 2023-02-16 00:00:21 1676502021\n",
    "# To quickly compare two items to see what's \"off\":\n",
    "# meld \\\n",
    "#     <(cat items/1676502021.json | jq \".features[].properties.name\") \\\n",
    "#     <(cat items/1676417652.json | jq \".features[].properties.name\")"
   ]
  },
  {
   "cell_type": "code",
   "execution_count": 3,
   "id": "b2d6c319",
   "metadata": {},
   "outputs": [],
   "source": [
    "def scrape_json(url: str):\n",
    "    headers = {\n",
    "        'Content-Type': 'application/json',\n",
    "        'User-Agent': USER_AGENT,\n",
    "    }\n",
    "    req = request.Request(\n",
    "        url=url,\n",
    "        headers=headers,\n",
    "        method='GET',\n",
    "    )\n",
    "\n",
    "    def fetch():\n",
    "        return json.loads(\n",
    "            request.urlopen(\n",
    "                req,\n",
    "                timeout=TIMEOUT,\n",
    "            ).read().decode('utf-8')\n",
    "        )\n",
    "    r = 0\n",
    "    while r < MAX_RETRIES:\n",
    "        try:\n",
    "            return fetch()\n",
    "        except HTTPError as e:\n",
    "            r += 1\n",
    "            print(f\"HTTPError, retrying. e={e}\")\n",
    "            time.sleep(60)\n",
    "            continue\n",
    "        except URLError as e:\n",
    "            r += 1\n",
    "            if isinstance(e.reason, socket.timeout):\n",
    "                print(\"Socket timeout, retrying\")\n",
    "                continue\n",
    "            print(f\"URLError, retrying. e={e}\")\n",
    "            time.sleep(10)\n",
    "    raise HTTPError"
   ]
  },
  {
   "cell_type": "code",
   "execution_count": 4,
   "id": "e10bf48e",
   "metadata": {},
   "outputs": [],
   "source": [
    "def save_to_file(items, filename):\n",
    "    # print(f\"Saving results to {filename}\")\n",
    "    with open(filename, 'w') as f:\n",
    "        json.dump(items, f, ensure_ascii=False, indent=2)"
   ]
  },
  {
   "cell_type": "code",
   "execution_count": 5,
   "id": "8602ced2",
   "metadata": {},
   "outputs": [],
   "source": [
    "history = scrape_json(HISTORY_URL)"
   ]
  },
  {
   "cell_type": "code",
   "execution_count": 6,
   "id": "4f1e4a9e",
   "metadata": {},
   "outputs": [],
   "source": [
    "# Ensure 'items' dir exists\n",
    "pathlib.Path(ITEMS_FOLDER).mkdir(parents=True, exist_ok=True) "
   ]
  },
  {
   "cell_type": "code",
   "execution_count": 7,
   "id": "6cadf59c",
   "metadata": {},
   "outputs": [],
   "source": [
    "def scrape_items(items):\n",
    "\n",
    "    ids = list(enumerate(filter(None, (str(p.get('id')) for p in items))))\n",
    "\n",
    "    def scrape_content(args):\n",
    "        idx, id = args\n",
    "        url = HISTORY_URL + '/' + id + '/geojson'\n",
    "        # https://stackoverflow.com/a/5291396/2193463\n",
    "        print(f\"(Downloading {idx}/{len(ids)}\", end='\\r')\n",
    "        entry = scrape_json(url)\n",
    "        save_to_file(entry, ITEMS_FOLDER + '/' + id + '.json')\n",
    "        entry['id'] = id\n",
    "        # Artificial throttling, otherwise we'll get an HTTP 429\n",
    "        time.sleep(COOLDOWN)\n",
    "        return entry\n",
    "\n",
    "    print(f\"Scraping all {len(ids)} items...\")\n",
    "\n",
    "    # https://www.markhneedham.com/blog/2018/07/15/python-parallel-download-files-requests/\n",
    "    def dispatch(ids):\n",
    "        return list(ThreadPool(\n",
    "            PARALLEL_DOWNLOADS).imap_unordered(scrape_content, ids))\n",
    "\n",
    "    results = dispatch(ids)\n",
    "    return results"
   ]
  },
  {
   "cell_type": "code",
   "execution_count": 8,
   "id": "1d5d1902",
   "metadata": {},
   "outputs": [
    {
     "name": "stdout",
     "output_type": "stream",
     "text": [
      "Scraping all 546 items...\n",
      "(Downloading 266/546(Downloading 178/546(Downloading 179/546\r"
     ]
    },
    {
     "ename": "IncompleteRead",
     "evalue": "IncompleteRead(16110 bytes read, 343147 more expected)",
     "output_type": "error",
     "traceback": [
      "\u001b[0;31m---------------------------------------------------------------------------\u001b[0m",
      "\u001b[0;31mIncompleteRead\u001b[0m                            Traceback (most recent call last)",
      "Cell \u001b[0;32mIn[8], line 2\u001b[0m\n\u001b[1;32m      1\u001b[0m \u001b[38;5;66;03m# XXX Beware, this will take some time as it has to download 530+ files\u001b[39;00m\n\u001b[0;32m----> 2\u001b[0m \u001b[43mscrape_items\u001b[49m\u001b[43m(\u001b[49m\u001b[43mhistory\u001b[49m\u001b[43m)\u001b[49m\n",
      "Cell \u001b[0;32mIn[7], line 24\u001b[0m, in \u001b[0;36mscrape_items\u001b[0;34m(items)\u001b[0m\n\u001b[1;32m     20\u001b[0m \u001b[38;5;28;01mdef\u001b[39;00m \u001b[38;5;21mdispatch\u001b[39m(ids):\n\u001b[1;32m     21\u001b[0m     \u001b[38;5;28;01mreturn\u001b[39;00m \u001b[38;5;28mlist\u001b[39m(ThreadPool(\n\u001b[1;32m     22\u001b[0m         PARALLEL_DOWNLOADS)\u001b[38;5;241m.\u001b[39mimap_unordered(scrape_content, ids))\n\u001b[0;32m---> 24\u001b[0m results \u001b[38;5;241m=\u001b[39m \u001b[43mdispatch\u001b[49m\u001b[43m(\u001b[49m\u001b[43mids\u001b[49m\u001b[43m)\u001b[49m\n\u001b[1;32m     25\u001b[0m \u001b[38;5;28;01mreturn\u001b[39;00m results\n",
      "Cell \u001b[0;32mIn[7], line 21\u001b[0m, in \u001b[0;36mscrape_items.<locals>.dispatch\u001b[0;34m(ids)\u001b[0m\n\u001b[1;32m     20\u001b[0m \u001b[38;5;28;01mdef\u001b[39;00m \u001b[38;5;21mdispatch\u001b[39m(ids):\n\u001b[0;32m---> 21\u001b[0m     \u001b[38;5;28;01mreturn\u001b[39;00m \u001b[38;5;28;43mlist\u001b[39;49m\u001b[43m(\u001b[49m\u001b[43mThreadPool\u001b[49m\u001b[43m(\u001b[49m\n\u001b[1;32m     22\u001b[0m \u001b[43m        \u001b[49m\u001b[43mPARALLEL_DOWNLOADS\u001b[49m\u001b[43m)\u001b[49m\u001b[38;5;241;43m.\u001b[39;49m\u001b[43mimap_unordered\u001b[49m\u001b[43m(\u001b[49m\u001b[43mscrape_content\u001b[49m\u001b[43m,\u001b[49m\u001b[43m \u001b[49m\u001b[43mids\u001b[49m\u001b[43m)\u001b[49m\u001b[43m)\u001b[49m\n",
      "File \u001b[0;32m/usr/lib/python3.10/multiprocessing/pool.py:873\u001b[0m, in \u001b[0;36mIMapIterator.next\u001b[0;34m(self, timeout)\u001b[0m\n\u001b[1;32m    871\u001b[0m \u001b[38;5;28;01mif\u001b[39;00m success:\n\u001b[1;32m    872\u001b[0m     \u001b[38;5;28;01mreturn\u001b[39;00m value\n\u001b[0;32m--> 873\u001b[0m \u001b[38;5;28;01mraise\u001b[39;00m value\n",
      "File \u001b[0;32m/usr/lib/python3.10/multiprocessing/pool.py:125\u001b[0m, in \u001b[0;36mworker\u001b[0;34m(inqueue, outqueue, initializer, initargs, maxtasks, wrap_exception)\u001b[0m\n\u001b[1;32m    123\u001b[0m job, i, func, args, kwds \u001b[38;5;241m=\u001b[39m task\n\u001b[1;32m    124\u001b[0m \u001b[38;5;28;01mtry\u001b[39;00m:\n\u001b[0;32m--> 125\u001b[0m     result \u001b[38;5;241m=\u001b[39m (\u001b[38;5;28;01mTrue\u001b[39;00m, \u001b[43mfunc\u001b[49m\u001b[43m(\u001b[49m\u001b[38;5;241;43m*\u001b[39;49m\u001b[43margs\u001b[49m\u001b[43m,\u001b[49m\u001b[43m \u001b[49m\u001b[38;5;241;43m*\u001b[39;49m\u001b[38;5;241;43m*\u001b[39;49m\u001b[43mkwds\u001b[49m\u001b[43m)\u001b[49m)\n\u001b[1;32m    126\u001b[0m \u001b[38;5;28;01mexcept\u001b[39;00m \u001b[38;5;167;01mException\u001b[39;00m \u001b[38;5;28;01mas\u001b[39;00m e:\n\u001b[1;32m    127\u001b[0m     \u001b[38;5;28;01mif\u001b[39;00m wrap_exception \u001b[38;5;129;01mand\u001b[39;00m func \u001b[38;5;129;01mis\u001b[39;00m \u001b[38;5;129;01mnot\u001b[39;00m _helper_reraises_exception:\n",
      "Cell \u001b[0;32mIn[7], line 10\u001b[0m, in \u001b[0;36mscrape_items.<locals>.scrape_content\u001b[0;34m(args)\u001b[0m\n\u001b[1;32m      8\u001b[0m \u001b[38;5;66;03m# https://stackoverflow.com/a/5291396/2193463\u001b[39;00m\n\u001b[1;32m      9\u001b[0m \u001b[38;5;28mprint\u001b[39m(\u001b[38;5;124mf\u001b[39m\u001b[38;5;124m\"\u001b[39m\u001b[38;5;124m(Downloading \u001b[39m\u001b[38;5;132;01m{\u001b[39;00midx\u001b[38;5;132;01m}\u001b[39;00m\u001b[38;5;124m/\u001b[39m\u001b[38;5;132;01m{\u001b[39;00m\u001b[38;5;28mlen\u001b[39m(ids)\u001b[38;5;132;01m}\u001b[39;00m\u001b[38;5;124m\"\u001b[39m, end\u001b[38;5;241m=\u001b[39m\u001b[38;5;124m'\u001b[39m\u001b[38;5;130;01m\\r\u001b[39;00m\u001b[38;5;124m'\u001b[39m)\n\u001b[0;32m---> 10\u001b[0m entry \u001b[38;5;241m=\u001b[39m \u001b[43mscrape_json\u001b[49m\u001b[43m(\u001b[49m\u001b[43murl\u001b[49m\u001b[43m)\u001b[49m\n\u001b[1;32m     11\u001b[0m save_to_file(entry, ITEMS_FOLDER \u001b[38;5;241m+\u001b[39m \u001b[38;5;124m'\u001b[39m\u001b[38;5;124m/\u001b[39m\u001b[38;5;124m'\u001b[39m \u001b[38;5;241m+\u001b[39m \u001b[38;5;28mid\u001b[39m \u001b[38;5;241m+\u001b[39m \u001b[38;5;124m'\u001b[39m\u001b[38;5;124m.json\u001b[39m\u001b[38;5;124m'\u001b[39m)\n\u001b[1;32m     12\u001b[0m entry[\u001b[38;5;124m'\u001b[39m\u001b[38;5;124mid\u001b[39m\u001b[38;5;124m'\u001b[39m] \u001b[38;5;241m=\u001b[39m \u001b[38;5;28mid\u001b[39m\n",
      "Cell \u001b[0;32mIn[3], line 22\u001b[0m, in \u001b[0;36mscrape_json\u001b[0;34m(url)\u001b[0m\n\u001b[1;32m     20\u001b[0m \u001b[38;5;28;01mwhile\u001b[39;00m r \u001b[38;5;241m<\u001b[39m MAX_RETRIES:\n\u001b[1;32m     21\u001b[0m     \u001b[38;5;28;01mtry\u001b[39;00m:\n\u001b[0;32m---> 22\u001b[0m         \u001b[38;5;28;01mreturn\u001b[39;00m \u001b[43mfetch\u001b[49m\u001b[43m(\u001b[49m\u001b[43m)\u001b[49m\n\u001b[1;32m     23\u001b[0m     \u001b[38;5;28;01mexcept\u001b[39;00m HTTPError \u001b[38;5;28;01mas\u001b[39;00m e:\n\u001b[1;32m     24\u001b[0m         r \u001b[38;5;241m+\u001b[39m\u001b[38;5;241m=\u001b[39m \u001b[38;5;241m1\u001b[39m\n",
      "Cell \u001b[0;32mIn[3], line 17\u001b[0m, in \u001b[0;36mscrape_json.<locals>.fetch\u001b[0;34m()\u001b[0m\n\u001b[1;32m     12\u001b[0m \u001b[38;5;28;01mdef\u001b[39;00m \u001b[38;5;21mfetch\u001b[39m():\n\u001b[1;32m     13\u001b[0m     \u001b[38;5;28;01mreturn\u001b[39;00m json\u001b[38;5;241m.\u001b[39mloads(\n\u001b[1;32m     14\u001b[0m         \u001b[43mrequest\u001b[49m\u001b[38;5;241;43m.\u001b[39;49m\u001b[43murlopen\u001b[49m\u001b[43m(\u001b[49m\n\u001b[1;32m     15\u001b[0m \u001b[43m            \u001b[49m\u001b[43mreq\u001b[49m\u001b[43m,\u001b[49m\n\u001b[1;32m     16\u001b[0m \u001b[43m            \u001b[49m\u001b[43mtimeout\u001b[49m\u001b[38;5;241;43m=\u001b[39;49m\u001b[43mTIMEOUT\u001b[49m\u001b[43m,\u001b[49m\n\u001b[0;32m---> 17\u001b[0m \u001b[43m        \u001b[49m\u001b[43m)\u001b[49m\u001b[38;5;241;43m.\u001b[39;49m\u001b[43mread\u001b[49m\u001b[43m(\u001b[49m\u001b[43m)\u001b[49m\u001b[38;5;241m.\u001b[39mdecode(\u001b[38;5;124m'\u001b[39m\u001b[38;5;124mutf-8\u001b[39m\u001b[38;5;124m'\u001b[39m)\n\u001b[1;32m     18\u001b[0m     )\n",
      "File \u001b[0;32m/usr/lib/python3.10/http/client.py:481\u001b[0m, in \u001b[0;36mHTTPResponse.read\u001b[0;34m(self, amt)\u001b[0m\n\u001b[1;32m    479\u001b[0m \u001b[38;5;28;01melse\u001b[39;00m:\n\u001b[1;32m    480\u001b[0m     \u001b[38;5;28;01mtry\u001b[39;00m:\n\u001b[0;32m--> 481\u001b[0m         s \u001b[38;5;241m=\u001b[39m \u001b[38;5;28;43mself\u001b[39;49m\u001b[38;5;241;43m.\u001b[39;49m\u001b[43m_safe_read\u001b[49m\u001b[43m(\u001b[49m\u001b[38;5;28;43mself\u001b[39;49m\u001b[38;5;241;43m.\u001b[39;49m\u001b[43mlength\u001b[49m\u001b[43m)\u001b[49m\n\u001b[1;32m    482\u001b[0m     \u001b[38;5;28;01mexcept\u001b[39;00m IncompleteRead:\n\u001b[1;32m    483\u001b[0m         \u001b[38;5;28mself\u001b[39m\u001b[38;5;241m.\u001b[39m_close_conn()\n",
      "File \u001b[0;32m/usr/lib/python3.10/http/client.py:632\u001b[0m, in \u001b[0;36mHTTPResponse._safe_read\u001b[0;34m(self, amt)\u001b[0m\n\u001b[1;32m    630\u001b[0m data \u001b[38;5;241m=\u001b[39m \u001b[38;5;28mself\u001b[39m\u001b[38;5;241m.\u001b[39mfp\u001b[38;5;241m.\u001b[39mread(amt)\n\u001b[1;32m    631\u001b[0m \u001b[38;5;28;01mif\u001b[39;00m \u001b[38;5;28mlen\u001b[39m(data) \u001b[38;5;241m<\u001b[39m amt:\n\u001b[0;32m--> 632\u001b[0m     \u001b[38;5;28;01mraise\u001b[39;00m IncompleteRead(data, amt\u001b[38;5;241m-\u001b[39m\u001b[38;5;28mlen\u001b[39m(data))\n\u001b[1;32m    633\u001b[0m \u001b[38;5;28;01mreturn\u001b[39;00m data\n",
      "\u001b[0;31mIncompleteRead\u001b[0m: IncompleteRead(16110 bytes read, 343147 more expected)"
     ]
    },
    {
     "name": "stdout",
     "output_type": "stream",
     "text": [
      "HTTPError, retrying. e=HTTP Error 520: \n",
      "HTTPError, retrying. e=HTTP Error 520: \n",
      "HTTPError, retrying. e=HTTP Error 522: \n",
      "HTTPError, retrying. e=HTTP Error 522: \n",
      "HTTPError, retrying. e=HTTP Error 522: \n",
      "HTTPError, retrying. e=HTTP Error 522: \n",
      "HTTPError, retrying. e=HTTP Error 522: \n",
      "(Downloading 545/546(Downloading 383/546\r"
     ]
    }
   ],
   "source": [
    "# XXX Beware, this will take some time as it has to download 530+ files\n",
    "# scrape_items(history)"
   ]
  },
  {
   "cell_type": "markdown",
   "id": "ffe37f3a",
   "metadata": {},
   "source": [
    "## Levenshtein distance for bad data\n",
    "A lot of data has [faulty characters](https://www.fileformat.info/info/unicode/char/fffd/index.htm) in it,\n",
    "so calculate the [Levenshtein distance](https://en.wikipedia.org/wiki/Levenshtein_distance)\n",
    "as compareed to the known \"good\" dict keys for occupied areas.\n",
    "Allow a maximum distance of 3 to account for missing spaces after '/' or faulty characters."
   ]
  },
  {
   "cell_type": "code",
   "execution_count": 9,
   "id": "7d50aa0c",
   "metadata": {},
   "outputs": [],
   "source": [
    "# https://codereview.stackexchange.com/questions/217065/calculate-levenshtein-distance-between-two-strings-in-python\n",
    "from difflib import ndiff\n",
    "def levenshtein_distance(str1, str2, ):\n",
    "    counter = {\"+\": 0, \"-\": 0}\n",
    "    distance = 0\n",
    "    for edit_code, *_ in ndiff(str1, str2):\n",
    "        if edit_code == \" \":\n",
    "            distance += max(counter.values())\n",
    "            counter = {\"+\": 0, \"-\": 0}\n",
    "        else: \n",
    "            counter[edit_code] += 1\n",
    "    distance += max(counter.values())\n",
    "    return distance\n",
    "\n",
    "def is_close_enough(string):\n",
    "    \"\"\"\n",
    "    Maximum Levenshtein distance of 3 is acceptable,\n",
    "    mostly to account for up three U+FFFD Unicode replacement characters\n",
    "    \"\"\"\n",
    "    for key in OCCUPIED_KEYS:\n",
    "        if (x := levenshtein_distance(key, string)) <= 3:\n",
    "            return True\n",
    "    return False"
   ]
  },
  {
   "cell_type": "code",
   "execution_count": 16,
   "id": "c470da63",
   "metadata": {},
   "outputs": [],
   "source": [
    "def compute_occupied_area(features):\n",
    "    occupied = []\n",
    "    for feature in features:\n",
    "        if is_close_enough(feature['properties']['name'].strip()):\n",
    "            occupied.append(feature)\n",
    "    geom = [shape(i['geometry']) for i in occupied]\n",
    "    gdf = gpd.GeoDataFrame({'geometry': geom}, crs='EPSG:4326')\n",
    "    # https://stackoverflow.com/questions/38961816/geopandas-set-crs-on-points\n",
    "    # Convert to metric projection -> WRONG!\n",
    "    # gdf = gdf.to_crs('EPSG:3857')\n",
    "    # Instead, convert to CEA:\n",
    "    gdf = gdf.to_crs({'proj': 'cea'})\n",
    "    # eqArea_lakeSup = lakeSup.to_crs(epsg=6933)\n",
    "    # https://gis.stackexchange.com/questions/254413/how-to-fix-hole-lies-outside-shell\n",
    "    # https://gis.stackexchange.com/questions/253224/geopandas-buffer-using-geodataframe-while-maintaining-the-dataframe\n",
    "    gdf['geometry'] = gdf.geometry.buffer(0)\n",
    "    joined = gdf.dissolve(by=None)\n",
    "    return joined.area"
   ]
  },
  {
   "cell_type": "code",
   "execution_count": 17,
   "id": "abdd9862",
   "metadata": {},
   "outputs": [],
   "source": [
    "def process_item(args):\n",
    "    idx, filename = args\n",
    "    print(f\"(Processing {idx}\", end='\\r')\n",
    "    with open(os.path.join('items', filename)) as f:\n",
    "        data = json.load(f)\n",
    "    id_ = filename.split('.json')[0]\n",
    "    date = datetime.datetime.fromtimestamp(int(id_))\n",
    "    # https://gis.stackexchange.com/questions/329349/calculating-the-area-by-square-feet-with-geopandas\n",
    "    area = compute_occupied_area(data['features'])  \n",
    "    area_sqkm = float(round(area, 2) / 1e6)  # divide by 1,000,000 to get square km\n",
    "    return [id_, date, area_sqkm, data['features']]"
   ]
  },
  {
   "cell_type": "code",
   "execution_count": 18,
   "id": "c1136fb1",
   "metadata": {
    "scrolled": false
   },
   "outputs": [
    {
     "name": "stdout",
     "output_type": "stream",
     "text": [
      "Processing all 546 items...\n",
      "(Processing 545(Processing 540(Processing 209(Processing 210(Processing 213(Processing 246(Processing 276(Processing 281(Processing 339(Processing 340(Processing 363(Processing 392(Processing 434(Processing 449(Processing 501(Processing 532\r"
     ]
    }
   ],
   "source": [
    "processed = []\n",
    "files = os.listdir('items')\n",
    "#for idx, item in enumerate(items):\n",
    "#    print(f\"Processing item {idx+1} out of {len(items)}\", end='\\r')\n",
    "#    ret = process_item(item)\n",
    "#    processed.append(ret)\n",
    "\n",
    "def dispatch(items):\n",
    "    print(f\"Processing all {len(items)} items...\")\n",
    "    return list(ThreadPool(\n",
    "        PARALLEL_PROCESSES).imap_unordered(process_item, enumerate(items)))\n",
    "\n",
    "# XXX This is extremely slow, beware\n",
    "# Don't worry about weird text output below (\"Processing ...\")\n",
    "processed = dispatch(files)"
   ]
  },
  {
   "cell_type": "code",
   "execution_count": 19,
   "id": "65b63666",
   "metadata": {},
   "outputs": [],
   "source": [
    "df = pd.DataFrame(processed, columns=['id', 'date', 'area', 'features'])\n",
    "df = df.drop(['features'], axis=1)\n",
    "df = df.sort_values(by='date', ascending = True)"
   ]
  },
  {
   "cell_type": "code",
   "execution_count": 20,
   "id": "376f9e39",
   "metadata": {},
   "outputs": [],
   "source": [
    "df = df.set_index('date')"
   ]
  },
  {
   "cell_type": "code",
   "execution_count": 21,
   "id": "8f05dd2b",
   "metadata": {},
   "outputs": [],
   "source": [
    "df['area'] = df['area'].astype('float')"
   ]
  },
  {
   "cell_type": "markdown",
   "id": "8a9e06f2",
   "metadata": {},
   "source": [
    "## Russian-occupied territory by date"
   ]
  },
  {
   "cell_type": "code",
   "execution_count": 22,
   "id": "a5f5b123",
   "metadata": {},
   "outputs": [
    {
     "data": {
      "text/plain": [
       "<AxesSubplot: xlabel='date'>"
      ]
     },
     "execution_count": 22,
     "metadata": {},
     "output_type": "execute_result"
    },
    {
     "data": {
      "image/png": "[encoded data removed]",
      "text/plain": [
       "<Figure size 1000x500 with 1 Axes>"
      ]
     },
     "metadata": {},
     "output_type": "display_data"
    }
   ],
   "source": [
    "df['area'].plot()"
   ]
  },
  {
   "cell_type": "code",
   "execution_count": 23,
   "id": "d6c87083",
   "metadata": {},
   "outputs": [],
   "source": [
    "# Show detailed view of a few days:\n",
    "# df.loc[\"20220501\":\"20220515\"].plot()"
   ]
  },
  {
   "cell_type": "code",
   "execution_count": 24,
   "id": "2cac3400",
   "metadata": {},
   "outputs": [],
   "source": [
    "# Show n smallest areas to identify outliers\n",
    "# df.loc[\"20230201\":\"20230301\"].nsmallest(10, 'area')"
   ]
  },
  {
   "cell_type": "code",
   "execution_count": 25,
   "id": "12401791",
   "metadata": {},
   "outputs": [],
   "source": [
    "df.to_csv('deepstate.csv')"
   ]
  },
  {
   "cell_type": "code",
   "execution_count": 26,
   "id": "8c7767f0",
   "metadata": {},
   "outputs": [],
   "source": [
    "df.to_excel('deepstate.xlsx')"
   ]
  },
  {
   "cell_type": "code",
   "execution_count": 27,
   "id": "75837dea",
   "metadata": {},
   "outputs": [
    {
     "data": {
      "text/plain": [
       "\"\\ndef visualize_feature(feature):\\n    fc =   {\\n        'type': 'FeatureCollection',\\n        'features': feature,\\n    }\\n    geo_json = GeoJSON(\\n        data=fc,\\n    )\\n    return geo_json\\n\\ngeo_json= visualize_feature(process_item([0, '1648989208.json'])[3])\\nm = Map(center=(48.1928465, 37.8562077), zoom=5)\\nm.add_layer(geo_json)\\n\\nm\\n\""
      ]
     },
     "execution_count": 27,
     "metadata": {},
     "output_type": "execute_result"
    }
   ],
   "source": [
    "# ipyleaflet doesn't want to show inline stuff here?\n",
    "\"\"\"\n",
    "def visualize_feature(feature):\n",
    "    fc =   {\n",
    "        'type': 'FeatureCollection',\n",
    "        'features': feature,\n",
    "    }\n",
    "    geo_json = GeoJSON(\n",
    "        data=fc,\n",
    "    )\n",
    "    return geo_json\n",
    "\n",
    "geo_json= visualize_feature(process_item([0, '1648989208.json'])[3])\n",
    "m = Map(center=(48.1928465, 37.8562077), zoom=5)\n",
    "m.add_layer(geo_json)\n",
    "\n",
    "m\n",
    "\"\"\""
   ]
  },
  {
   "cell_type": "code",
   "execution_count": null,
   "id": "a6ebb517",
   "metadata": {},
   "outputs": [],
   "source": []
  }
 ],
 "metadata": {
  "kernelspec": {
   "display_name": "vp",
   "language": "python",
   "name": "vp"
  },
  "language_info": {
   "codemirror_mode": {
    "name": "ipython",
    "version": 3
   },
   "file_extension": ".py",
   "mimetype": "text/x-python",
   "name": "python",
   "nbconvert_exporter": "python",
   "pygments_lexer": "ipython3",
   "version": "3.10.9"
  }
 },
 "nbformat": 4,
 "nbformat_minor": 5
}
